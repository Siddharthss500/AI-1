{
 "cells": [
  {
   "cell_type": "code",
   "execution_count": 18,
   "metadata": {},
   "outputs": [],
   "source": [
    "import matplotlib\n",
    "import matplotlib.pyplot as plt\n",
    "import numpy as np"
   ]
  },
  {
   "cell_type": "code",
   "execution_count": 35,
   "metadata": {},
   "outputs": [],
   "source": [
    "p = 0.4\n",
    "n= 10\n",
    "def generate_environment(n, p):\n",
    "    out = np.array([list(np.random.binomial(1, 1-p,n)) for i in range(n)])\n",
    "    out[0,0] = 1\n",
    "    out[n-1,n-1] = 1\n",
    "    return(out)"
   ]
  },
  {
   "cell_type": "code",
   "execution_count": 36,
   "metadata": {},
   "outputs": [],
   "source": [
    "test = generate_environment(n, p)"
   ]
  },
  {
   "cell_type": "code",
   "execution_count": 37,
   "metadata": {},
   "outputs": [
    {
     "data": {
      "text/plain": [
       "array([[1, 1, 1, 0, 1, 0, 0, 1, 1, 0],\n",
       "       [1, 1, 1, 1, 0, 0, 1, 1, 1, 1],\n",
       "       [1, 0, 1, 1, 1, 0, 1, 1, 1, 1],\n",
       "       [0, 1, 0, 1, 1, 1, 0, 0, 0, 1],\n",
       "       [1, 0, 1, 1, 1, 0, 1, 1, 0, 0],\n",
       "       [1, 0, 1, 0, 0, 0, 0, 1, 0, 1],\n",
       "       [1, 1, 0, 1, 1, 1, 0, 1, 1, 1],\n",
       "       [1, 1, 0, 0, 0, 0, 1, 1, 1, 1],\n",
       "       [1, 0, 1, 0, 0, 0, 1, 0, 1, 1],\n",
       "       [1, 0, 0, 1, 1, 1, 1, 0, 1, 1]])"
      ]
     },
     "execution_count": 37,
     "metadata": {},
     "output_type": "execute_result"
    }
   ],
   "source": [
    "test"
   ]
  },
  {
   "cell_type": "code",
   "execution_count": 39,
   "metadata": {},
   "outputs": [
    {
     "data": {
      "image/png": "[encoded data removed]",
      "text/plain": [
       "<Figure size 432x288 with 1 Axes>"
      ]
     },
     "metadata": {},
     "output_type": "display_data"
    }
   ],
   "source": [
    "plt.pcolormesh(test)\n",
    "plt.axes().set_aspect('equal') #set the x and y axes to the same scale\n",
    "plt.xticks([]) # remove the tick marks by setting to an empty list\n",
    "plt.yticks([]) # remove the tick marks by setting to an empty list\n",
    "#plt.axes().invert_yaxis() #invert the y-axis so the first row of data is at the top\n",
    "plt.show()"
   ]
  },
  {
   "cell_type": "code",
   "execution_count": null,
   "metadata": {},
   "outputs": [],
   "source": []
  }
 ],
 "metadata": {
  "kernelspec": {
   "display_name": "Python 3",
   "language": "python",
   "name": "python3"
  },
  "language_info": {
   "codemirror_mode": {
    "name": "ipython",
    "version": 3
   },
   "file_extension": ".py",
   "mimetype": "text/x-python",
   "name": "python",
   "nbconvert_exporter": "python",
   "pygments_lexer": "ipython3",
   "version": "3.6.7"
  }
 },
 "nbformat": 4,
 "nbformat_minor": 2
}
